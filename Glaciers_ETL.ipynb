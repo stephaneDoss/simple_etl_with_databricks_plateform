{
 "cells": [
  {
   "cell_type": "code",
   "execution_count": 0,
   "metadata": {
    "application/vnd.databricks.v1+cell": {
     "cellMetadata": {
      "byteLimit": 2048000,
      "rowLimit": 10000
     },
     "inputWidgets": {},
     "nuid": "c6f15a2e-970c-4b0c-99a8-a18d00bbaa29",
     "showTitle": false,
     "title": ""
    }
   },
   "outputs": [],
   "source": [
    "\n",
    "import requests\n",
    "from pyspark.sql import DataFrame"
   ]
  },
  {
   "cell_type": "code",
   "execution_count": 0,
   "metadata": {
    "application/vnd.databricks.v1+cell": {
     "cellMetadata": {
      "byteLimit": 2048000,
      "rowLimit": 10000
     },
     "inputWidgets": {},
     "nuid": "b81ecb93-bac3-4337-91b8-84b7dd6e9607",
     "showTitle": false,
     "title": ""
    }
   },
   "outputs": [],
   "source": [
    "df = spark.read.format(\"csv\").option(\"header\", \"true\").load(\"dbfs:/FileStore/shared_uploads/sedegnon.dossou@epitech.eu/glaciers.csv\")"
   ]
  },
  {
   "cell_type": "code",
   "execution_count": 0,
   "metadata": {
    "application/vnd.databricks.v1+cell": {
     "cellMetadata": {
      "byteLimit": 2048000,
      "rowLimit": 10000
     },
     "inputWidgets": {},
     "nuid": "d81b0768-274c-420d-a5f6-537eefd54d7a",
     "showTitle": false,
     "title": ""
    }
   },
   "outputs": [
    {
     "output_type": "display_data",
     "data": {
      "text/html": [
       "<style scoped>\n",
       "  .table-result-container {\n",
       "    max-height: 300px;\n",
       "    overflow: auto;\n",
       "  }\n",
       "  table, th, td {\n",
       "    border: 1px solid black;\n",
       "    border-collapse: collapse;\n",
       "  }\n",
       "  th, td {\n",
       "    padding: 5px;\n",
       "  }\n",
       "  th {\n",
       "    text-align: left;\n",
       "  }\n",
       "</style><div class='table-result-container'><table class='table-result'><thead style='background-color: white'><tr><th>Year</th><th>Mean cumulative mass balance</th><th>Number of observations</th></tr></thead><tbody><tr><td>1945</td><td>0</td><td>null</td></tr><tr><td>1946</td><td>-1.13</td><td>1</td></tr><tr><td>1947</td><td>-3.19</td><td>1</td></tr><tr><td>1948</td><td>-3.19</td><td>1</td></tr><tr><td>1949</td><td>-3.82</td><td>3</td></tr><tr><td>1950</td><td>-4.887</td><td>3</td></tr><tr><td>1951</td><td>-5.217</td><td>3</td></tr><tr><td>1952</td><td>-5.707</td><td>3</td></tr><tr><td>1953</td><td>-6.341</td><td>7</td></tr><tr><td>1954</td><td>-6.825</td><td>6</td></tr><tr><td>1955</td><td>-6.575</td><td>7</td></tr><tr><td>1956</td><td>-6.814</td><td>7</td></tr><tr><td>1957</td><td>-6.989</td><td>9</td></tr><tr><td>1958</td><td>-7.693</td><td>9</td></tr><tr><td>1959</td><td>-8.325</td><td>11</td></tr><tr><td>1960</td><td>-8.688</td><td>14</td></tr><tr><td>1961</td><td>-8.935</td><td>15</td></tr><tr><td>1962</td><td>-9.109</td><td>20</td></tr><tr><td>1963</td><td>-9.567</td><td>22</td></tr><tr><td>1964</td><td>-9.699</td><td>22</td></tr><tr><td>1965</td><td>-9.298</td><td>24</td></tr><tr><td>1966</td><td>-9.436</td><td>27</td></tr><tr><td>1967</td><td>-9.303</td><td>29</td></tr><tr><td>1968</td><td>-9.219</td><td>31</td></tr><tr><td>1969</td><td>-9.732</td><td>31</td></tr><tr><td>1970</td><td>-10.128</td><td>32</td></tr><tr><td>1971</td><td>-10.288</td><td>32</td></tr><tr><td>1972</td><td>-10.441</td><td>32</td></tr><tr><td>1973</td><td>-10.538</td><td>32</td></tr><tr><td>1974</td><td>-10.613</td><td>32</td></tr><tr><td>1975</td><td>-10.534</td><td>33</td></tr><tr><td>1976</td><td>-10.633</td><td>35</td></tr><tr><td>1977</td><td>-10.682</td><td>37</td></tr><tr><td>1978</td><td>-10.754</td><td>37</td></tr><tr><td>1979</td><td>-11.127</td><td>37</td></tr><tr><td>1980</td><td>-11.318</td><td>36</td></tr><tr><td>1981</td><td>-11.394</td><td>35</td></tr><tr><td>1982</td><td>-11.849</td><td>36</td></tr><tr><td>1983</td><td>-11.846</td><td>37</td></tr><tr><td>1984</td><td>-11.902</td><td>37</td></tr><tr><td>1985</td><td>-12.238</td><td>37</td></tr><tr><td>1986</td><td>-12.782</td><td>37</td></tr><tr><td>1987</td><td>-12.795</td><td>37</td></tr><tr><td>1988</td><td>-13.26</td><td>37</td></tr><tr><td>1989</td><td>-13.343</td><td>37</td></tr><tr><td>1990</td><td>-13.687</td><td>37</td></tr><tr><td>1991</td><td>-14.255</td><td>37</td></tr><tr><td>1992</td><td>-14.501</td><td>36</td></tr><tr><td>1993</td><td>-14.695</td><td>37</td></tr><tr><td>1994</td><td>-15.276</td><td>37</td></tr><tr><td>1995</td><td>-15.486</td><td>37</td></tr><tr><td>1996</td><td>-15.89</td><td>37</td></tr><tr><td>1997</td><td>-16.487</td><td>37</td></tr><tr><td>1998</td><td>-17.31</td><td>37</td></tr><tr><td>1999</td><td>-17.697</td><td>37</td></tr><tr><td>2000</td><td>-17.727</td><td>37</td></tr><tr><td>2001</td><td>-18.032</td><td>37</td></tr><tr><td>2002</td><td>-18.726</td><td>37</td></tr><tr><td>2003</td><td>-19.984</td><td>37</td></tr><tr><td>2004</td><td>-20.703</td><td>37</td></tr><tr><td>2005</td><td>-21.405</td><td>37</td></tr><tr><td>2006</td><td>-22.595</td><td>37</td></tr><tr><td>2007</td><td>-23.255</td><td>37</td></tr><tr><td>2008</td><td>-23.776</td><td>37</td></tr><tr><td>2009</td><td>-24.459</td><td>37</td></tr><tr><td>2010</td><td>-25.158</td><td>37</td></tr><tr><td>2011</td><td>-26.294</td><td>37</td></tr><tr><td>2012</td><td>-26.93</td><td>36</td></tr><tr><td>2013</td><td>-27.817</td><td>31</td></tr><tr><td>2014</td><td>-28.652</td><td>24</td></tr></tbody></table></div>"
      ]
     },
     "metadata": {
      "application/vnd.databricks.v1+output": {
       "addedWidgets": {},
       "aggData": [],
       "aggError": "",
       "aggOverflow": false,
       "aggSchema": [],
       "aggSeriesLimitReached": false,
       "aggType": "",
       "arguments": {},
       "columnCustomDisplayInfos": {},
       "data": [
        [
         "1945",
         "0",
         null
        ],
        [
         "1946",
         "-1.13",
         "1"
        ],
        [
         "1947",
         "-3.19",
         "1"
        ],
        [
         "1948",
         "-3.19",
         "1"
        ],
        [
         "1949",
         "-3.82",
         "3"
        ],
        [
         "1950",
         "-4.887",
         "3"
        ],
        [
         "1951",
         "-5.217",
         "3"
        ],
        [
         "1952",
         "-5.707",
         "3"
        ],
        [
         "1953",
         "-6.341",
         "7"
        ],
        [
         "1954",
         "-6.825",
         "6"
        ],
        [
         "1955",
         "-6.575",
         "7"
        ],
        [
         "1956",
         "-6.814",
         "7"
        ],
        [
         "1957",
         "-6.989",
         "9"
        ],
        [
         "1958",
         "-7.693",
         "9"
        ],
        [
         "1959",
         "-8.325",
         "11"
        ],
        [
         "1960",
         "-8.688",
         "14"
        ],
        [
         "1961",
         "-8.935",
         "15"
        ],
        [
         "1962",
         "-9.109",
         "20"
        ],
        [
         "1963",
         "-9.567",
         "22"
        ],
        [
         "1964",
         "-9.699",
         "22"
        ],
        [
         "1965",
         "-9.298",
         "24"
        ],
        [
         "1966",
         "-9.436",
         "27"
        ],
        [
         "1967",
         "-9.303",
         "29"
        ],
        [
         "1968",
         "-9.219",
         "31"
        ],
        [
         "1969",
         "-9.732",
         "31"
        ],
        [
         "1970",
         "-10.128",
         "32"
        ],
        [
         "1971",
         "-10.288",
         "32"
        ],
        [
         "1972",
         "-10.441",
         "32"
        ],
        [
         "1973",
         "-10.538",
         "32"
        ],
        [
         "1974",
         "-10.613",
         "32"
        ],
        [
         "1975",
         "-10.534",
         "33"
        ],
        [
         "1976",
         "-10.633",
         "35"
        ],
        [
         "1977",
         "-10.682",
         "37"
        ],
        [
         "1978",
         "-10.754",
         "37"
        ],
        [
         "1979",
         "-11.127",
         "37"
        ],
        [
         "1980",
         "-11.318",
         "36"
        ],
        [
         "1981",
         "-11.394",
         "35"
        ],
        [
         "1982",
         "-11.849",
         "36"
        ],
        [
         "1983",
         "-11.846",
         "37"
        ],
        [
         "1984",
         "-11.902",
         "37"
        ],
        [
         "1985",
         "-12.238",
         "37"
        ],
        [
         "1986",
         "-12.782",
         "37"
        ],
        [
         "1987",
         "-12.795",
         "37"
        ],
        [
         "1988",
         "-13.26",
         "37"
        ],
        [
         "1989",
         "-13.343",
         "37"
        ],
        [
         "1990",
         "-13.687",
         "37"
        ],
        [
         "1991",
         "-14.255",
         "37"
        ],
        [
         "1992",
         "-14.501",
         "36"
        ],
        [
         "1993",
         "-14.695",
         "37"
        ],
        [
         "1994",
         "-15.276",
         "37"
        ],
        [
         "1995",
         "-15.486",
         "37"
        ],
        [
         "1996",
         "-15.89",
         "37"
        ],
        [
         "1997",
         "-16.487",
         "37"
        ],
        [
         "1998",
         "-17.31",
         "37"
        ],
        [
         "1999",
         "-17.697",
         "37"
        ],
        [
         "2000",
         "-17.727",
         "37"
        ],
        [
         "2001",
         "-18.032",
         "37"
        ],
        [
         "2002",
         "-18.726",
         "37"
        ],
        [
         "2003",
         "-19.984",
         "37"
        ],
        [
         "2004",
         "-20.703",
         "37"
        ],
        [
         "2005",
         "-21.405",
         "37"
        ],
        [
         "2006",
         "-22.595",
         "37"
        ],
        [
         "2007",
         "-23.255",
         "37"
        ],
        [
         "2008",
         "-23.776",
         "37"
        ],
        [
         "2009",
         "-24.459",
         "37"
        ],
        [
         "2010",
         "-25.158",
         "37"
        ],
        [
         "2011",
         "-26.294",
         "37"
        ],
        [
         "2012",
         "-26.93",
         "36"
        ],
        [
         "2013",
         "-27.817",
         "31"
        ],
        [
         "2014",
         "-28.652",
         "24"
        ]
       ],
       "datasetInfos": [],
       "dbfsResultPath": null,
       "isJsonSchema": true,
       "metadata": {},
       "overflow": false,
       "plotOptions": {
        "customPlotOptions": {},
        "displayType": "table",
        "pivotAggregation": null,
        "pivotColumns": null,
        "xColumns": null,
        "yColumns": null
       },
       "removedWidgets": [],
       "schema": [
        {
         "metadata": "{}",
         "name": "Year",
         "type": "\"string\""
        },
        {
         "metadata": "{}",
         "name": "Mean cumulative mass balance",
         "type": "\"string\""
        },
        {
         "metadata": "{}",
         "name": "Number of observations",
         "type": "\"string\""
        }
       ],
       "type": "table"
      }
     },
     "output_type": "display_data"
    }
   ],
   "source": [
    "display(df)"
   ]
  },
  {
   "cell_type": "code",
   "execution_count": 0,
   "metadata": {
    "application/vnd.databricks.v1+cell": {
     "cellMetadata": {
      "byteLimit": 2048000,
      "rowLimit": 10000
     },
     "inputWidgets": {},
     "nuid": "22680479-1140-4d5a-aff3-8415aae9e14e",
     "showTitle": false,
     "title": ""
    }
   },
   "outputs": [],
   "source": [
    "df.createOrReplaceTempView(\"df\")\n"
   ]
  },
  {
   "cell_type": "code",
   "execution_count": 0,
   "metadata": {
    "application/vnd.databricks.v1+cell": {
     "cellMetadata": {
      "byteLimit": 2048000,
      "rowLimit": 10000
     },
     "inputWidgets": {},
     "nuid": "ffed837c-f651-4e5d-9b03-d0f1c5492ff1",
     "showTitle": false,
     "title": ""
    }
   },
   "outputs": [],
   "source": [
    "def transform_data(df: DataFrame):\n",
    "  spark.sql(\"create or replace temp view nintys as select * from df where Year like '19%' order by Year asc;\")\n",
    "  nintys_df = spark.sql(\"select * from nintys\")\n",
    "  spark.sql(\"create or replace temp view modern as select * from df where Year like '20%' order by Year asc;\")\n",
    "  modern_df = spark.sql(\"select * from modern\")\n",
    "  return nintys_df, modern_df"
   ]
  },
  {
   "cell_type": "code",
   "execution_count": 0,
   "metadata": {
    "application/vnd.databricks.v1+cell": {
     "cellMetadata": {
      "byteLimit": 2048000,
      "rowLimit": 10000
     },
     "inputWidgets": {},
     "nuid": "90832bea-ba32-4930-bbf4-d53385b3bc41",
     "showTitle": false,
     "title": ""
    }
   },
   "outputs": [],
   "source": [
    "nintys_df, modern_df = transform_data(df)"
   ]
  },
  {
   "cell_type": "code",
   "execution_count": 0,
   "metadata": {
    "application/vnd.databricks.v1+cell": {
     "cellMetadata": {
      "byteLimit": 2048000,
      "rowLimit": 10000
     },
     "inputWidgets": {},
     "nuid": "d72cebb5-8b8c-44a8-ac06-d063a7269360",
     "showTitle": false,
     "title": ""
    }
   },
   "outputs": [
    {
     "output_type": "display_data",
     "data": {
      "text/html": [
       "<style scoped>\n",
       "  .table-result-container {\n",
       "    max-height: 300px;\n",
       "    overflow: auto;\n",
       "  }\n",
       "  table, th, td {\n",
       "    border: 1px solid black;\n",
       "    border-collapse: collapse;\n",
       "  }\n",
       "  th, td {\n",
       "    padding: 5px;\n",
       "  }\n",
       "  th {\n",
       "    text-align: left;\n",
       "  }\n",
       "</style><div class='table-result-container'><table class='table-result'><thead style='background-color: white'><tr><th>Year</th><th>Mean cumulative mass balance</th><th>Number of observations</th></tr></thead><tbody><tr><td>1945</td><td>0</td><td>null</td></tr><tr><td>1946</td><td>-1.13</td><td>1</td></tr><tr><td>1947</td><td>-3.19</td><td>1</td></tr><tr><td>1948</td><td>-3.19</td><td>1</td></tr><tr><td>1949</td><td>-3.82</td><td>3</td></tr><tr><td>1950</td><td>-4.887</td><td>3</td></tr><tr><td>1951</td><td>-5.217</td><td>3</td></tr><tr><td>1952</td><td>-5.707</td><td>3</td></tr><tr><td>1953</td><td>-6.341</td><td>7</td></tr><tr><td>1954</td><td>-6.825</td><td>6</td></tr><tr><td>1955</td><td>-6.575</td><td>7</td></tr><tr><td>1956</td><td>-6.814</td><td>7</td></tr><tr><td>1957</td><td>-6.989</td><td>9</td></tr><tr><td>1958</td><td>-7.693</td><td>9</td></tr><tr><td>1959</td><td>-8.325</td><td>11</td></tr><tr><td>1960</td><td>-8.688</td><td>14</td></tr><tr><td>1961</td><td>-8.935</td><td>15</td></tr><tr><td>1962</td><td>-9.109</td><td>20</td></tr><tr><td>1963</td><td>-9.567</td><td>22</td></tr><tr><td>1964</td><td>-9.699</td><td>22</td></tr><tr><td>1965</td><td>-9.298</td><td>24</td></tr><tr><td>1966</td><td>-9.436</td><td>27</td></tr><tr><td>1967</td><td>-9.303</td><td>29</td></tr><tr><td>1968</td><td>-9.219</td><td>31</td></tr><tr><td>1969</td><td>-9.732</td><td>31</td></tr><tr><td>1970</td><td>-10.128</td><td>32</td></tr><tr><td>1971</td><td>-10.288</td><td>32</td></tr><tr><td>1972</td><td>-10.441</td><td>32</td></tr><tr><td>1973</td><td>-10.538</td><td>32</td></tr><tr><td>1974</td><td>-10.613</td><td>32</td></tr><tr><td>1975</td><td>-10.534</td><td>33</td></tr><tr><td>1976</td><td>-10.633</td><td>35</td></tr><tr><td>1977</td><td>-10.682</td><td>37</td></tr><tr><td>1978</td><td>-10.754</td><td>37</td></tr><tr><td>1979</td><td>-11.127</td><td>37</td></tr><tr><td>1980</td><td>-11.318</td><td>36</td></tr><tr><td>1981</td><td>-11.394</td><td>35</td></tr><tr><td>1982</td><td>-11.849</td><td>36</td></tr><tr><td>1983</td><td>-11.846</td><td>37</td></tr><tr><td>1984</td><td>-11.902</td><td>37</td></tr><tr><td>1985</td><td>-12.238</td><td>37</td></tr><tr><td>1986</td><td>-12.782</td><td>37</td></tr><tr><td>1987</td><td>-12.795</td><td>37</td></tr><tr><td>1988</td><td>-13.26</td><td>37</td></tr><tr><td>1989</td><td>-13.343</td><td>37</td></tr><tr><td>1990</td><td>-13.687</td><td>37</td></tr><tr><td>1991</td><td>-14.255</td><td>37</td></tr><tr><td>1992</td><td>-14.501</td><td>36</td></tr><tr><td>1993</td><td>-14.695</td><td>37</td></tr><tr><td>1994</td><td>-15.276</td><td>37</td></tr><tr><td>1995</td><td>-15.486</td><td>37</td></tr><tr><td>1996</td><td>-15.89</td><td>37</td></tr><tr><td>1997</td><td>-16.487</td><td>37</td></tr><tr><td>1998</td><td>-17.31</td><td>37</td></tr><tr><td>1999</td><td>-17.697</td><td>37</td></tr></tbody></table></div>"
      ]
     },
     "metadata": {
      "application/vnd.databricks.v1+output": {
       "addedWidgets": {},
       "aggData": [],
       "aggError": "",
       "aggOverflow": false,
       "aggSchema": [],
       "aggSeriesLimitReached": false,
       "aggType": "",
       "arguments": {},
       "columnCustomDisplayInfos": {},
       "data": [
        [
         "1945",
         "0",
         null
        ],
        [
         "1946",
         "-1.13",
         "1"
        ],
        [
         "1947",
         "-3.19",
         "1"
        ],
        [
         "1948",
         "-3.19",
         "1"
        ],
        [
         "1949",
         "-3.82",
         "3"
        ],
        [
         "1950",
         "-4.887",
         "3"
        ],
        [
         "1951",
         "-5.217",
         "3"
        ],
        [
         "1952",
         "-5.707",
         "3"
        ],
        [
         "1953",
         "-6.341",
         "7"
        ],
        [
         "1954",
         "-6.825",
         "6"
        ],
        [
         "1955",
         "-6.575",
         "7"
        ],
        [
         "1956",
         "-6.814",
         "7"
        ],
        [
         "1957",
         "-6.989",
         "9"
        ],
        [
         "1958",
         "-7.693",
         "9"
        ],
        [
         "1959",
         "-8.325",
         "11"
        ],
        [
         "1960",
         "-8.688",
         "14"
        ],
        [
         "1961",
         "-8.935",
         "15"
        ],
        [
         "1962",
         "-9.109",
         "20"
        ],
        [
         "1963",
         "-9.567",
         "22"
        ],
        [
         "1964",
         "-9.699",
         "22"
        ],
        [
         "1965",
         "-9.298",
         "24"
        ],
        [
         "1966",
         "-9.436",
         "27"
        ],
        [
         "1967",
         "-9.303",
         "29"
        ],
        [
         "1968",
         "-9.219",
         "31"
        ],
        [
         "1969",
         "-9.732",
         "31"
        ],
        [
         "1970",
         "-10.128",
         "32"
        ],
        [
         "1971",
         "-10.288",
         "32"
        ],
        [
         "1972",
         "-10.441",
         "32"
        ],
        [
         "1973",
         "-10.538",
         "32"
        ],
        [
         "1974",
         "-10.613",
         "32"
        ],
        [
         "1975",
         "-10.534",
         "33"
        ],
        [
         "1976",
         "-10.633",
         "35"
        ],
        [
         "1977",
         "-10.682",
         "37"
        ],
        [
         "1978",
         "-10.754",
         "37"
        ],
        [
         "1979",
         "-11.127",
         "37"
        ],
        [
         "1980",
         "-11.318",
         "36"
        ],
        [
         "1981",
         "-11.394",
         "35"
        ],
        [
         "1982",
         "-11.849",
         "36"
        ],
        [
         "1983",
         "-11.846",
         "37"
        ],
        [
         "1984",
         "-11.902",
         "37"
        ],
        [
         "1985",
         "-12.238",
         "37"
        ],
        [
         "1986",
         "-12.782",
         "37"
        ],
        [
         "1987",
         "-12.795",
         "37"
        ],
        [
         "1988",
         "-13.26",
         "37"
        ],
        [
         "1989",
         "-13.343",
         "37"
        ],
        [
         "1990",
         "-13.687",
         "37"
        ],
        [
         "1991",
         "-14.255",
         "37"
        ],
        [
         "1992",
         "-14.501",
         "36"
        ],
        [
         "1993",
         "-14.695",
         "37"
        ],
        [
         "1994",
         "-15.276",
         "37"
        ],
        [
         "1995",
         "-15.486",
         "37"
        ],
        [
         "1996",
         "-15.89",
         "37"
        ],
        [
         "1997",
         "-16.487",
         "37"
        ],
        [
         "1998",
         "-17.31",
         "37"
        ],
        [
         "1999",
         "-17.697",
         "37"
        ]
       ],
       "datasetInfos": [],
       "dbfsResultPath": null,
       "isJsonSchema": true,
       "metadata": {},
       "overflow": false,
       "plotOptions": {
        "customPlotOptions": {},
        "displayType": "table",
        "pivotAggregation": null,
        "pivotColumns": null,
        "xColumns": null,
        "yColumns": null
       },
       "removedWidgets": [],
       "schema": [
        {
         "metadata": "{}",
         "name": "Year",
         "type": "\"string\""
        },
        {
         "metadata": "{}",
         "name": "Mean cumulative mass balance",
         "type": "\"string\""
        },
        {
         "metadata": "{}",
         "name": "Number of observations",
         "type": "\"string\""
        }
       ],
       "type": "table"
      }
     },
     "output_type": "display_data"
    }
   ],
   "source": [
    "display(nintys_df)"
   ]
  },
  {
   "cell_type": "code",
   "execution_count": 0,
   "metadata": {
    "application/vnd.databricks.v1+cell": {
     "cellMetadata": {
      "byteLimit": 2048000,
      "rowLimit": 10000
     },
     "inputWidgets": {},
     "nuid": "67cdebf8-69b4-4ef6-a127-e32360001e12",
     "showTitle": false,
     "title": ""
    }
   },
   "outputs": [
    {
     "output_type": "display_data",
     "data": {
      "text/html": [
       "<style scoped>\n",
       "  .table-result-container {\n",
       "    max-height: 300px;\n",
       "    overflow: auto;\n",
       "  }\n",
       "  table, th, td {\n",
       "    border: 1px solid black;\n",
       "    border-collapse: collapse;\n",
       "  }\n",
       "  th, td {\n",
       "    padding: 5px;\n",
       "  }\n",
       "  th {\n",
       "    text-align: left;\n",
       "  }\n",
       "</style><div class='table-result-container'><table class='table-result'><thead style='background-color: white'><tr><th>Year</th><th>Mean cumulative mass balance</th><th>Number of observations</th></tr></thead><tbody><tr><td>2000</td><td>-17.727</td><td>37</td></tr><tr><td>2001</td><td>-18.032</td><td>37</td></tr><tr><td>2002</td><td>-18.726</td><td>37</td></tr><tr><td>2003</td><td>-19.984</td><td>37</td></tr><tr><td>2004</td><td>-20.703</td><td>37</td></tr><tr><td>2005</td><td>-21.405</td><td>37</td></tr><tr><td>2006</td><td>-22.595</td><td>37</td></tr><tr><td>2007</td><td>-23.255</td><td>37</td></tr><tr><td>2008</td><td>-23.776</td><td>37</td></tr><tr><td>2009</td><td>-24.459</td><td>37</td></tr><tr><td>2010</td><td>-25.158</td><td>37</td></tr><tr><td>2011</td><td>-26.294</td><td>37</td></tr><tr><td>2012</td><td>-26.93</td><td>36</td></tr><tr><td>2013</td><td>-27.817</td><td>31</td></tr><tr><td>2014</td><td>-28.652</td><td>24</td></tr></tbody></table></div>"
      ]
     },
     "metadata": {
      "application/vnd.databricks.v1+output": {
       "addedWidgets": {},
       "aggData": [],
       "aggError": "",
       "aggOverflow": false,
       "aggSchema": [],
       "aggSeriesLimitReached": false,
       "aggType": "",
       "arguments": {},
       "columnCustomDisplayInfos": {},
       "data": [
        [
         "2000",
         "-17.727",
         "37"
        ],
        [
         "2001",
         "-18.032",
         "37"
        ],
        [
         "2002",
         "-18.726",
         "37"
        ],
        [
         "2003",
         "-19.984",
         "37"
        ],
        [
         "2004",
         "-20.703",
         "37"
        ],
        [
         "2005",
         "-21.405",
         "37"
        ],
        [
         "2006",
         "-22.595",
         "37"
        ],
        [
         "2007",
         "-23.255",
         "37"
        ],
        [
         "2008",
         "-23.776",
         "37"
        ],
        [
         "2009",
         "-24.459",
         "37"
        ],
        [
         "2010",
         "-25.158",
         "37"
        ],
        [
         "2011",
         "-26.294",
         "37"
        ],
        [
         "2012",
         "-26.93",
         "36"
        ],
        [
         "2013",
         "-27.817",
         "31"
        ],
        [
         "2014",
         "-28.652",
         "24"
        ]
       ],
       "datasetInfos": [],
       "dbfsResultPath": null,
       "isJsonSchema": true,
       "metadata": {},
       "overflow": false,
       "plotOptions": {
        "customPlotOptions": {},
        "displayType": "table",
        "pivotAggregation": null,
        "pivotColumns": null,
        "xColumns": null,
        "yColumns": null
       },
       "removedWidgets": [],
       "schema": [
        {
         "metadata": "{}",
         "name": "Year",
         "type": "\"string\""
        },
        {
         "metadata": "{}",
         "name": "Mean cumulative mass balance",
         "type": "\"string\""
        },
        {
         "metadata": "{}",
         "name": "Number of observations",
         "type": "\"string\""
        }
       ],
       "type": "table"
      }
     },
     "output_type": "display_data"
    }
   ],
   "source": [
    "display(modern_df)"
   ]
  },
  {
   "cell_type": "code",
   "execution_count": 0,
   "metadata": {
    "application/vnd.databricks.v1+cell": {
     "cellMetadata": {
      "byteLimit": 2048000,
      "rowLimit": 10000
     },
     "inputWidgets": {},
     "nuid": "373beba6-bdc6-4b26-a65f-7faceb210c7c",
     "showTitle": false,
     "title": ""
    }
   },
   "outputs": [
    {
     "output_type": "display_data",
     "data": {
      "text/plain": [
       "\u001B[0;31m---------------------------------------------------------------------------\u001B[0m\n",
       "\u001B[0;31mAnalysisException\u001B[0m                         Traceback (most recent call last)\n",
       "File \u001B[0;32m<command-2459812236317101>:1\u001B[0m\n",
       "\u001B[0;32m----> 1\u001B[0m \u001B[43mnintys_df\u001B[49m\u001B[38;5;241;43m.\u001B[39;49m\u001B[43mwrite\u001B[49m\u001B[38;5;241;43m.\u001B[39;49m\u001B[43mformat\u001B[49m\u001B[43m(\u001B[49m\u001B[38;5;124;43m'\u001B[39;49m\u001B[38;5;124;43mparquet\u001B[39;49m\u001B[38;5;124;43m'\u001B[39;49m\u001B[43m)\u001B[49m\u001B[38;5;241;43m.\u001B[39;49m\u001B[43msave\u001B[49m\u001B[43m(\u001B[49m\u001B[38;5;124;43m\"\u001B[39;49m\u001B[38;5;124;43m/dbfs/nintys_df.parquet\u001B[39;49m\u001B[38;5;124;43m\"\u001B[39;49m\u001B[43m)\u001B[49m\n",
       "\n",
       "File \u001B[0;32m/databricks/spark/python/pyspark/instrumentation_utils.py:48\u001B[0m, in \u001B[0;36m_wrap_function.<locals>.wrapper\u001B[0;34m(*args, **kwargs)\u001B[0m\n",
       "\u001B[1;32m     46\u001B[0m start \u001B[38;5;241m=\u001B[39m time\u001B[38;5;241m.\u001B[39mperf_counter()\n",
       "\u001B[1;32m     47\u001B[0m \u001B[38;5;28;01mtry\u001B[39;00m:\n",
       "\u001B[0;32m---> 48\u001B[0m     res \u001B[38;5;241m=\u001B[39m \u001B[43mfunc\u001B[49m\u001B[43m(\u001B[49m\u001B[38;5;241;43m*\u001B[39;49m\u001B[43margs\u001B[49m\u001B[43m,\u001B[49m\u001B[43m \u001B[49m\u001B[38;5;241;43m*\u001B[39;49m\u001B[38;5;241;43m*\u001B[39;49m\u001B[43mkwargs\u001B[49m\u001B[43m)\u001B[49m\n",
       "\u001B[1;32m     49\u001B[0m     logger\u001B[38;5;241m.\u001B[39mlog_success(\n",
       "\u001B[1;32m     50\u001B[0m         module_name, class_name, function_name, time\u001B[38;5;241m.\u001B[39mperf_counter() \u001B[38;5;241m-\u001B[39m start, signature\n",
       "\u001B[1;32m     51\u001B[0m     )\n",
       "\u001B[1;32m     52\u001B[0m     \u001B[38;5;28;01mreturn\u001B[39;00m res\n",
       "\n",
       "File \u001B[0;32m/databricks/spark/python/pyspark/sql/readwriter.py:1397\u001B[0m, in \u001B[0;36mDataFrameWriter.save\u001B[0;34m(self, path, format, mode, partitionBy, **options)\u001B[0m\n",
       "\u001B[1;32m   1395\u001B[0m     \u001B[38;5;28mself\u001B[39m\u001B[38;5;241m.\u001B[39m_jwrite\u001B[38;5;241m.\u001B[39msave()\n",
       "\u001B[1;32m   1396\u001B[0m \u001B[38;5;28;01melse\u001B[39;00m:\n",
       "\u001B[0;32m-> 1397\u001B[0m     \u001B[38;5;28;43mself\u001B[39;49m\u001B[38;5;241;43m.\u001B[39;49m\u001B[43m_jwrite\u001B[49m\u001B[38;5;241;43m.\u001B[39;49m\u001B[43msave\u001B[49m\u001B[43m(\u001B[49m\u001B[43mpath\u001B[49m\u001B[43m)\u001B[49m\n",
       "\n",
       "File \u001B[0;32m/databricks/spark/python/lib/py4j-0.10.9.5-src.zip/py4j/java_gateway.py:1321\u001B[0m, in \u001B[0;36mJavaMember.__call__\u001B[0;34m(self, *args)\u001B[0m\n",
       "\u001B[1;32m   1315\u001B[0m command \u001B[38;5;241m=\u001B[39m proto\u001B[38;5;241m.\u001B[39mCALL_COMMAND_NAME \u001B[38;5;241m+\u001B[39m\\\n",
       "\u001B[1;32m   1316\u001B[0m     \u001B[38;5;28mself\u001B[39m\u001B[38;5;241m.\u001B[39mcommand_header \u001B[38;5;241m+\u001B[39m\\\n",
       "\u001B[1;32m   1317\u001B[0m     args_command \u001B[38;5;241m+\u001B[39m\\\n",
       "\u001B[1;32m   1318\u001B[0m     proto\u001B[38;5;241m.\u001B[39mEND_COMMAND_PART\n",
       "\u001B[1;32m   1320\u001B[0m answer \u001B[38;5;241m=\u001B[39m \u001B[38;5;28mself\u001B[39m\u001B[38;5;241m.\u001B[39mgateway_client\u001B[38;5;241m.\u001B[39msend_command(command)\n",
       "\u001B[0;32m-> 1321\u001B[0m return_value \u001B[38;5;241m=\u001B[39m \u001B[43mget_return_value\u001B[49m\u001B[43m(\u001B[49m\n",
       "\u001B[1;32m   1322\u001B[0m \u001B[43m    \u001B[49m\u001B[43manswer\u001B[49m\u001B[43m,\u001B[49m\u001B[43m \u001B[49m\u001B[38;5;28;43mself\u001B[39;49m\u001B[38;5;241;43m.\u001B[39;49m\u001B[43mgateway_client\u001B[49m\u001B[43m,\u001B[49m\u001B[43m \u001B[49m\u001B[38;5;28;43mself\u001B[39;49m\u001B[38;5;241;43m.\u001B[39;49m\u001B[43mtarget_id\u001B[49m\u001B[43m,\u001B[49m\u001B[43m \u001B[49m\u001B[38;5;28;43mself\u001B[39;49m\u001B[38;5;241;43m.\u001B[39;49m\u001B[43mname\u001B[49m\u001B[43m)\u001B[49m\n",
       "\u001B[1;32m   1324\u001B[0m \u001B[38;5;28;01mfor\u001B[39;00m temp_arg \u001B[38;5;129;01min\u001B[39;00m temp_args:\n",
       "\u001B[1;32m   1325\u001B[0m     temp_arg\u001B[38;5;241m.\u001B[39m_detach()\n",
       "\n",
       "File \u001B[0;32m/databricks/spark/python/pyspark/errors/exceptions.py:234\u001B[0m, in \u001B[0;36mcapture_sql_exception.<locals>.deco\u001B[0;34m(*a, **kw)\u001B[0m\n",
       "\u001B[1;32m    230\u001B[0m converted \u001B[38;5;241m=\u001B[39m convert_exception(e\u001B[38;5;241m.\u001B[39mjava_exception)\n",
       "\u001B[1;32m    231\u001B[0m \u001B[38;5;28;01mif\u001B[39;00m \u001B[38;5;129;01mnot\u001B[39;00m \u001B[38;5;28misinstance\u001B[39m(converted, UnknownException):\n",
       "\u001B[1;32m    232\u001B[0m     \u001B[38;5;66;03m# Hide where the exception came from that shows a non-Pythonic\u001B[39;00m\n",
       "\u001B[1;32m    233\u001B[0m     \u001B[38;5;66;03m# JVM exception message.\u001B[39;00m\n",
       "\u001B[0;32m--> 234\u001B[0m     \u001B[38;5;28;01mraise\u001B[39;00m converted \u001B[38;5;28;01mfrom\u001B[39;00m \u001B[38;5;28mNone\u001B[39m\n",
       "\u001B[1;32m    235\u001B[0m \u001B[38;5;28;01melse\u001B[39;00m:\n",
       "\u001B[1;32m    236\u001B[0m     \u001B[38;5;28;01mraise\u001B[39;00m\n",
       "\n",
       "\u001B[0;31mAnalysisException\u001B[0m: Path dbfs:/dbfs/nintys_df.parquet already exists."
      ]
     },
     "metadata": {
      "application/vnd.databricks.v1+output": {
       "arguments": {},
       "data": "\u001B[0;31m---------------------------------------------------------------------------\u001B[0m\n\u001B[0;31mAnalysisException\u001B[0m                         Traceback (most recent call last)\nFile \u001B[0;32m<command-2459812236317101>:1\u001B[0m\n\u001B[0;32m----> 1\u001B[0m \u001B[43mnintys_df\u001B[49m\u001B[38;5;241;43m.\u001B[39;49m\u001B[43mwrite\u001B[49m\u001B[38;5;241;43m.\u001B[39;49m\u001B[43mformat\u001B[49m\u001B[43m(\u001B[49m\u001B[38;5;124;43m'\u001B[39;49m\u001B[38;5;124;43mparquet\u001B[39;49m\u001B[38;5;124;43m'\u001B[39;49m\u001B[43m)\u001B[49m\u001B[38;5;241;43m.\u001B[39;49m\u001B[43msave\u001B[49m\u001B[43m(\u001B[49m\u001B[38;5;124;43m\"\u001B[39;49m\u001B[38;5;124;43m/dbfs/nintys_df.parquet\u001B[39;49m\u001B[38;5;124;43m\"\u001B[39;49m\u001B[43m)\u001B[49m\n\nFile \u001B[0;32m/databricks/spark/python/pyspark/instrumentation_utils.py:48\u001B[0m, in \u001B[0;36m_wrap_function.<locals>.wrapper\u001B[0;34m(*args, **kwargs)\u001B[0m\n\u001B[1;32m     46\u001B[0m start \u001B[38;5;241m=\u001B[39m time\u001B[38;5;241m.\u001B[39mperf_counter()\n\u001B[1;32m     47\u001B[0m \u001B[38;5;28;01mtry\u001B[39;00m:\n\u001B[0;32m---> 48\u001B[0m     res \u001B[38;5;241m=\u001B[39m \u001B[43mfunc\u001B[49m\u001B[43m(\u001B[49m\u001B[38;5;241;43m*\u001B[39;49m\u001B[43margs\u001B[49m\u001B[43m,\u001B[49m\u001B[43m \u001B[49m\u001B[38;5;241;43m*\u001B[39;49m\u001B[38;5;241;43m*\u001B[39;49m\u001B[43mkwargs\u001B[49m\u001B[43m)\u001B[49m\n\u001B[1;32m     49\u001B[0m     logger\u001B[38;5;241m.\u001B[39mlog_success(\n\u001B[1;32m     50\u001B[0m         module_name, class_name, function_name, time\u001B[38;5;241m.\u001B[39mperf_counter() \u001B[38;5;241m-\u001B[39m start, signature\n\u001B[1;32m     51\u001B[0m     )\n\u001B[1;32m     52\u001B[0m     \u001B[38;5;28;01mreturn\u001B[39;00m res\n\nFile \u001B[0;32m/databricks/spark/python/pyspark/sql/readwriter.py:1397\u001B[0m, in \u001B[0;36mDataFrameWriter.save\u001B[0;34m(self, path, format, mode, partitionBy, **options)\u001B[0m\n\u001B[1;32m   1395\u001B[0m     \u001B[38;5;28mself\u001B[39m\u001B[38;5;241m.\u001B[39m_jwrite\u001B[38;5;241m.\u001B[39msave()\n\u001B[1;32m   1396\u001B[0m \u001B[38;5;28;01melse\u001B[39;00m:\n\u001B[0;32m-> 1397\u001B[0m     \u001B[38;5;28;43mself\u001B[39;49m\u001B[38;5;241;43m.\u001B[39;49m\u001B[43m_jwrite\u001B[49m\u001B[38;5;241;43m.\u001B[39;49m\u001B[43msave\u001B[49m\u001B[43m(\u001B[49m\u001B[43mpath\u001B[49m\u001B[43m)\u001B[49m\n\nFile \u001B[0;32m/databricks/spark/python/lib/py4j-0.10.9.5-src.zip/py4j/java_gateway.py:1321\u001B[0m, in \u001B[0;36mJavaMember.__call__\u001B[0;34m(self, *args)\u001B[0m\n\u001B[1;32m   1315\u001B[0m command \u001B[38;5;241m=\u001B[39m proto\u001B[38;5;241m.\u001B[39mCALL_COMMAND_NAME \u001B[38;5;241m+\u001B[39m\\\n\u001B[1;32m   1316\u001B[0m     \u001B[38;5;28mself\u001B[39m\u001B[38;5;241m.\u001B[39mcommand_header \u001B[38;5;241m+\u001B[39m\\\n\u001B[1;32m   1317\u001B[0m     args_command \u001B[38;5;241m+\u001B[39m\\\n\u001B[1;32m   1318\u001B[0m     proto\u001B[38;5;241m.\u001B[39mEND_COMMAND_PART\n\u001B[1;32m   1320\u001B[0m answer \u001B[38;5;241m=\u001B[39m \u001B[38;5;28mself\u001B[39m\u001B[38;5;241m.\u001B[39mgateway_client\u001B[38;5;241m.\u001B[39msend_command(command)\n\u001B[0;32m-> 1321\u001B[0m return_value \u001B[38;5;241m=\u001B[39m \u001B[43mget_return_value\u001B[49m\u001B[43m(\u001B[49m\n\u001B[1;32m   1322\u001B[0m \u001B[43m    \u001B[49m\u001B[43manswer\u001B[49m\u001B[43m,\u001B[49m\u001B[43m \u001B[49m\u001B[38;5;28;43mself\u001B[39;49m\u001B[38;5;241;43m.\u001B[39;49m\u001B[43mgateway_client\u001B[49m\u001B[43m,\u001B[49m\u001B[43m \u001B[49m\u001B[38;5;28;43mself\u001B[39;49m\u001B[38;5;241;43m.\u001B[39;49m\u001B[43mtarget_id\u001B[49m\u001B[43m,\u001B[49m\u001B[43m \u001B[49m\u001B[38;5;28;43mself\u001B[39;49m\u001B[38;5;241;43m.\u001B[39;49m\u001B[43mname\u001B[49m\u001B[43m)\u001B[49m\n\u001B[1;32m   1324\u001B[0m \u001B[38;5;28;01mfor\u001B[39;00m temp_arg \u001B[38;5;129;01min\u001B[39;00m temp_args:\n\u001B[1;32m   1325\u001B[0m     temp_arg\u001B[38;5;241m.\u001B[39m_detach()\n\nFile \u001B[0;32m/databricks/spark/python/pyspark/errors/exceptions.py:234\u001B[0m, in \u001B[0;36mcapture_sql_exception.<locals>.deco\u001B[0;34m(*a, **kw)\u001B[0m\n\u001B[1;32m    230\u001B[0m converted \u001B[38;5;241m=\u001B[39m convert_exception(e\u001B[38;5;241m.\u001B[39mjava_exception)\n\u001B[1;32m    231\u001B[0m \u001B[38;5;28;01mif\u001B[39;00m \u001B[38;5;129;01mnot\u001B[39;00m \u001B[38;5;28misinstance\u001B[39m(converted, UnknownException):\n\u001B[1;32m    232\u001B[0m     \u001B[38;5;66;03m# Hide where the exception came from that shows a non-Pythonic\u001B[39;00m\n\u001B[1;32m    233\u001B[0m     \u001B[38;5;66;03m# JVM exception message.\u001B[39;00m\n\u001B[0;32m--> 234\u001B[0m     \u001B[38;5;28;01mraise\u001B[39;00m converted \u001B[38;5;28;01mfrom\u001B[39;00m \u001B[38;5;28mNone\u001B[39m\n\u001B[1;32m    235\u001B[0m \u001B[38;5;28;01melse\u001B[39;00m:\n\u001B[1;32m    236\u001B[0m     \u001B[38;5;28;01mraise\u001B[39;00m\n\n\u001B[0;31mAnalysisException\u001B[0m: Path dbfs:/dbfs/nintys_df.parquet already exists.",
       "errorSummary": "<span class='ansi-red-fg'>AnalysisException</span>: Path dbfs:/dbfs/nintys_df.parquet already exists.",
       "errorTraceType": "ansi",
       "metadata": {},
       "type": "ipynbError"
      }
     },
     "output_type": "display_data"
    }
   ],
   "source": [
    "nintys_df.write.format('parquet').save(\"/dbfs/nintys_df.parquet\")"
   ]
  },
  {
   "cell_type": "code",
   "execution_count": 0,
   "metadata": {
    "application/vnd.databricks.v1+cell": {
     "cellMetadata": {
      "byteLimit": 2048000,
      "rowLimit": 10000
     },
     "inputWidgets": {},
     "nuid": "d946f693-9e8a-4ad9-8998-a0d7c57a88be",
     "showTitle": false,
     "title": ""
    }
   },
   "outputs": [],
   "source": [
    "modern_df.write.format('parquet').save(\"/dbfs/modern_df.parquet\")"
   ]
  }
 ],
 "metadata": {
  "application/vnd.databricks.v1+notebook": {
   "dashboards": [
    {
     "elements": [
      {
       "dashboardResultIndex": 0,
       "elementNUID": "d72cebb5-8b8c-44a8-ac06-d063a7269360",
       "elementType": "command",
       "guid": "68f9edf9-533d-45de-9df0-39393a8fa035",
       "options": null,
       "position": {
        "height": 6,
        "width": 12,
        "x": 0,
        "y": 12,
        "z": null
       },
       "resultIndex": null
      },
      {
       "dashboardResultIndex": 0,
       "elementNUID": "67cdebf8-69b4-4ef6-a127-e32360001e12",
       "elementType": "command",
       "guid": "a2a3436b-781b-4e81-8153-5baf9ac91acc",
       "options": null,
       "position": {
        "height": 6,
        "width": 12,
        "x": 0,
        "y": 18,
        "z": null
       },
       "resultIndex": null
      },
      {
       "dashboardResultIndex": 0,
       "elementNUID": "d81b0768-274c-420d-a5f6-537eefd54d7a",
       "elementType": "command",
       "guid": "d0f00cea-ec0d-40cd-8faa-afed0af2112a",
       "options": {
        "autoScaleImg": false,
        "scale": 0,
        "showTitle": false,
        "titleAlign": "center"
       },
       "position": {
        "height": 6,
        "width": 12,
        "x": 0,
        "y": 0,
        "z": null
       },
       "resultIndex": null
      }
     ],
     "globalVars": {},
     "guid": "",
     "layoutOption": {
      "grid": true,
      "stack": true
     },
     "nuid": "d0c5fed4-e83f-4140-a179-7a079e5954d7",
     "origId": 1779419803243323,
     "title": "Untitled",
     "version": "DashboardViewV1",
     "width": 1024
    }
   ],
   "language": "python",
   "notebookMetadata": {
    "mostRecentlyExecutedCommandWithImplicitDF": {
     "commandId": 2459812236317103,
     "dataframes": [
      "_sqldf"
     ]
    },
    "pythonIndentUnit": 4
   },
   "notebookName": "Glaciers_ETL",
   "widgets": {}
  }
 },
 "nbformat": 4,
 "nbformat_minor": 0
}
